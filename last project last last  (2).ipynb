{
 "cells": [
  {
   "cell_type": "code",
   "execution_count": 1,
   "id": "92a44d0a",
   "metadata": {},
   "outputs": [],
   "source": [
    "import pandas as pd\n",
    "import matplotlib.pyplot as plt\n",
    "import seaborn as sns \n",
    "import numpy as np"
   ]
  },
  {
   "cell_type": "code",
   "execution_count": 2,
   "id": "f726a02d",
   "metadata": {},
   "outputs": [],
   "source": [
    "from sklearn.model_selection import train_test_split\n",
    "from sklearn.preprocessing import StandardScaler, OneHotEncoder, MaxAbsScaler\n",
    "from sklearn.compose import ColumnTransformer\n",
    "from sklearn.pipeline import Pipeline\n",
    "from sklearn.linear_model import LogisticRegression\n",
    "from sklearn.metrics import classification_report\n",
    "from scipy.sparse import hstack"
   ]
  },
  {
   "cell_type": "code",
   "execution_count": 3,
   "id": "155e17d0",
   "metadata": {},
   "outputs": [],
   "source": [
    "import networkx as nx"
   ]
  },
  {
   "cell_type": "code",
   "execution_count": 4,
   "id": "28fd12c7",
   "metadata": {},
   "outputs": [],
   "source": [
    "from sklearn.ensemble import RandomForestClassifier\n",
    "from sklearn.impute import SimpleImputer\n",
    "from sklearn.compose import make_column_transformer, make_column_selector\n",
    "from sklearn.pipeline import make_pipeline\n",
    "from sklearn.model_selection import GridSearchCV\n",
    "from sklearn.model_selection import cross_val_score\n",
    "from sklearn.metrics import ConfusionMatrixDisplay, confusion_matrix, precision_score, classification_report\n",
    "from sklearn.linear_model import LogisticRegression"
   ]
  },
  {
   "cell_type": "code",
   "execution_count": 5,
   "id": "1776506e",
   "metadata": {},
   "outputs": [
    {
     "name": "stdout",
     "output_type": "stream",
     "text": [
      "<class 'pandas.core.frame.DataFrame'>\n",
      "RangeIndex: 5078345 entries, 0 to 5078344\n",
      "Data columns (total 11 columns):\n",
      " #   Column              Dtype  \n",
      "---  ------              -----  \n",
      " 0   Timestamp           object \n",
      " 1   From Bank           int64  \n",
      " 2   Account             object \n",
      " 3   To Bank             int64  \n",
      " 4   Account.1           object \n",
      " 5   Amount Received     float64\n",
      " 6   Receiving Currency  object \n",
      " 7   Amount Paid         float64\n",
      " 8   Payment Currency    object \n",
      " 9   Payment Format      object \n",
      " 10  Is Laundering       int64  \n",
      "dtypes: float64(2), int64(3), object(6)\n",
      "memory usage: 426.2+ MB\n"
     ]
    }
   ],
   "source": [
    "df = pd.read_csv(\"HI-Small_Trans.csv\")\n",
    "df.info()"
   ]
  },
  {
   "cell_type": "code",
   "execution_count": 6,
   "id": "ce0d5754",
   "metadata": {
    "scrolled": false
   },
   "outputs": [
    {
     "data": {
      "text/html": [
       "<div>\n",
       "<style scoped>\n",
       "    .dataframe tbody tr th:only-of-type {\n",
       "        vertical-align: middle;\n",
       "    }\n",
       "\n",
       "    .dataframe tbody tr th {\n",
       "        vertical-align: top;\n",
       "    }\n",
       "\n",
       "    .dataframe thead th {\n",
       "        text-align: right;\n",
       "    }\n",
       "</style>\n",
       "<table border=\"1\" class=\"dataframe\">\n",
       "  <thead>\n",
       "    <tr style=\"text-align: right;\">\n",
       "      <th></th>\n",
       "      <th>Timestamp</th>\n",
       "      <th>From Bank</th>\n",
       "      <th>Account</th>\n",
       "      <th>To Bank</th>\n",
       "      <th>Account.1</th>\n",
       "      <th>Amount Received</th>\n",
       "      <th>Receiving Currency</th>\n",
       "      <th>Amount Paid</th>\n",
       "      <th>Payment Currency</th>\n",
       "      <th>Payment Format</th>\n",
       "      <th>Is Laundering</th>\n",
       "    </tr>\n",
       "  </thead>\n",
       "  <tbody>\n",
       "    <tr>\n",
       "      <th>4615779</th>\n",
       "      <td>2022/09/09 14:17</td>\n",
       "      <td>345494</td>\n",
       "      <td>810A643E0</td>\n",
       "      <td>44873</td>\n",
       "      <td>810A53FC0</td>\n",
       "      <td>2686.34</td>\n",
       "      <td>Shekel</td>\n",
       "      <td>2686.34</td>\n",
       "      <td>Shekel</td>\n",
       "      <td>Cheque</td>\n",
       "      <td>0</td>\n",
       "    </tr>\n",
       "    <tr>\n",
       "      <th>5072490</th>\n",
       "      <td>2022/09/10 23:05</td>\n",
       "      <td>22</td>\n",
       "      <td>8008AEA90</td>\n",
       "      <td>5328</td>\n",
       "      <td>80B8442A0</td>\n",
       "      <td>6013.42</td>\n",
       "      <td>Euro</td>\n",
       "      <td>6013.42</td>\n",
       "      <td>Euro</td>\n",
       "      <td>Cheque</td>\n",
       "      <td>0</td>\n",
       "    </tr>\n",
       "    <tr>\n",
       "      <th>3431301</th>\n",
       "      <td>2022/09/07 08:53</td>\n",
       "      <td>701</td>\n",
       "      <td>8009595E0</td>\n",
       "      <td>1729</td>\n",
       "      <td>8026AD9E0</td>\n",
       "      <td>10211.43</td>\n",
       "      <td>US Dollar</td>\n",
       "      <td>10211.43</td>\n",
       "      <td>US Dollar</td>\n",
       "      <td>Cheque</td>\n",
       "      <td>0</td>\n",
       "    </tr>\n",
       "    <tr>\n",
       "      <th>587817</th>\n",
       "      <td>2022/09/01 08:14</td>\n",
       "      <td>3489</td>\n",
       "      <td>809765F20</td>\n",
       "      <td>4600</td>\n",
       "      <td>80B84D4F0</td>\n",
       "      <td>3110.84</td>\n",
       "      <td>Euro</td>\n",
       "      <td>3110.84</td>\n",
       "      <td>Euro</td>\n",
       "      <td>Cheque</td>\n",
       "      <td>0</td>\n",
       "    </tr>\n",
       "    <tr>\n",
       "      <th>3047511</th>\n",
       "      <td>2022/09/06 13:45</td>\n",
       "      <td>1124</td>\n",
       "      <td>80188F300</td>\n",
       "      <td>7042</td>\n",
       "      <td>8081B21A0</td>\n",
       "      <td>2835.43</td>\n",
       "      <td>US Dollar</td>\n",
       "      <td>2835.43</td>\n",
       "      <td>US Dollar</td>\n",
       "      <td>ACH</td>\n",
       "      <td>0</td>\n",
       "    </tr>\n",
       "  </tbody>\n",
       "</table>\n",
       "</div>"
      ],
      "text/plain": [
       "                Timestamp  From Bank    Account  To Bank  Account.1  \\\n",
       "4615779  2022/09/09 14:17     345494  810A643E0    44873  810A53FC0   \n",
       "5072490  2022/09/10 23:05         22  8008AEA90     5328  80B8442A0   \n",
       "3431301  2022/09/07 08:53        701  8009595E0     1729  8026AD9E0   \n",
       "587817   2022/09/01 08:14       3489  809765F20     4600  80B84D4F0   \n",
       "3047511  2022/09/06 13:45       1124  80188F300     7042  8081B21A0   \n",
       "\n",
       "         Amount Received Receiving Currency  Amount Paid Payment Currency  \\\n",
       "4615779          2686.34             Shekel      2686.34           Shekel   \n",
       "5072490          6013.42               Euro      6013.42             Euro   \n",
       "3431301         10211.43          US Dollar     10211.43        US Dollar   \n",
       "587817           3110.84               Euro      3110.84             Euro   \n",
       "3047511          2835.43          US Dollar      2835.43        US Dollar   \n",
       "\n",
       "        Payment Format  Is Laundering  \n",
       "4615779         Cheque              0  \n",
       "5072490         Cheque              0  \n",
       "3431301         Cheque              0  \n",
       "587817          Cheque              0  \n",
       "3047511            ACH              0  "
      ]
     },
     "execution_count": 6,
     "metadata": {},
     "output_type": "execute_result"
    }
   ],
   "source": [
    "df.sample(5)"
   ]
  },
  {
   "cell_type": "code",
   "execution_count": 12,
   "id": "67c8c107",
   "metadata": {},
   "outputs": [
    {
     "name": "stderr",
     "output_type": "stream",
     "text": [
      "C:\\Users\\glaub\\AppData\\Local\\Temp\\ipykernel_8656\\3669295664.py:2: FutureWarning: The default value of numeric_only in DataFrame.corr is deprecated. In a future version, it will default to False. Select only valid columns or specify the value of numeric_only to silence this warning.\n",
      "  corr = df.corr()\n"
     ]
    },
    {
     "data": {
      "image/png": "[encoded data removed]",
      "text/plain": [
       "<Figure size 1100x900 with 2 Axes>"
      ]
     },
     "metadata": {},
     "output_type": "display_data"
    },
    {
     "data": {
      "text/plain": [
       "<Figure size 1800x1200 with 0 Axes>"
      ]
     },
     "metadata": {},
     "output_type": "display_data"
    }
   ],
   "source": [
    "# Compute the correlation matrix\n",
    "corr = df.corr()\n",
    "\n",
    "# Generate a mask for the upper triangle\n",
    "mask = np.triu(np.ones_like(corr, dtype=bool))\n",
    "\n",
    "# Set up the matplotlib figure\n",
    "f, ax = plt.subplots(figsize=(11, 9))\n",
    "\n",
    "# Generate a custom diverging colormap\n",
    "cmap = sns.diverging_palette(230, 20, as_cmap=True)\n",
    "\n",
    "# Draw the heatmap with the mask and correct aspect ratio\n",
    "sns.heatmap(corr, mask=mask, cmap=cmap, vmax=.3, center=0,\n",
    "            square=True, linewidths=.5, cbar_kws={\"shrink\": .5}, annot=True)\n",
    "plt.title('Correlation Heatmap')\n",
    "plt.show()\n",
    "\n",
    "plt.savefig('boxplot_age.png', transparent=True, bbox_inches='tight')\n"
   ]
  },
  {
   "cell_type": "code",
   "execution_count": 13,
   "id": "693464aa",
   "metadata": {},
   "outputs": [],
   "source": [
    "# downsampling the data in order that the minority is at least 20% of the dataset\n",
    "\n",
    "from sklearn.utils import resample\n",
    "\n",
    "# splitting the data between minority and majority classes just so we can downsample only the majority\n",
    "# in order to avoid randomly taking values from the minority too\n",
    "\n",
    "minority_class = df[df['Is Laundering'] == 1]\n",
    "majority_class = df[df['Is Laundering'] == 0]\n",
    "\n",
    "\n",
    "# Downsample the majority class to match the minority class size\n",
    "\n",
    "# Set to True if you want to sample with replace\n",
    "\n",
    "majority_downsampled = resample(majority_class, replace=False, n_samples = (len(minority_class)), random_state=42)\n",
    "\n",
    "# combining minority_class and majority_class so we can have a balanced dataset\n",
    "\n",
    "balanced_df = pd.concat([minority_class, majority_downsampled])\n",
    "\n",
    "df = balanced_df"
   ]
  },
  {
   "cell_type": "code",
   "execution_count": 14,
   "id": "4a17feae",
   "metadata": {},
   "outputs": [
    {
     "ename": "KeyError",
     "evalue": "\"['Timestamp', 'Account.1', 'Account'] not found in axis\"",
     "output_type": "error",
     "traceback": [
      "\u001b[1;31m---------------------------------------------------------------------------\u001b[0m",
      "\u001b[1;31mKeyError\u001b[0m                                  Traceback (most recent call last)",
      "Cell \u001b[1;32mIn[14], line 1\u001b[0m\n\u001b[1;32m----> 1\u001b[0m \u001b[43mdf\u001b[49m\u001b[38;5;241;43m.\u001b[39;49m\u001b[43mdrop\u001b[49m\u001b[43m(\u001b[49m\u001b[43m[\u001b[49m\u001b[38;5;124;43m'\u001b[39;49m\u001b[38;5;124;43mTimestamp\u001b[39;49m\u001b[38;5;124;43m'\u001b[39;49m\u001b[43m,\u001b[49m\u001b[38;5;124;43m'\u001b[39;49m\u001b[38;5;124;43mAccount.1\u001b[39;49m\u001b[38;5;124;43m'\u001b[39;49m\u001b[43m,\u001b[49m\u001b[38;5;124;43m'\u001b[39;49m\u001b[38;5;124;43mAccount\u001b[39;49m\u001b[38;5;124;43m'\u001b[39;49m\u001b[43m]\u001b[49m\u001b[43m,\u001b[49m\u001b[43m \u001b[49m\u001b[43maxis\u001b[49m\u001b[38;5;241;43m=\u001b[39;49m\u001b[38;5;241;43m1\u001b[39;49m\u001b[43m,\u001b[49m\u001b[43m \u001b[49m\u001b[43minplace\u001b[49m\u001b[38;5;241;43m=\u001b[39;49m\u001b[38;5;28;43;01mTrue\u001b[39;49;00m\u001b[43m)\u001b[49m\n",
      "File \u001b[1;32mC:\\ProgramData\\anaconda3\\lib\\site-packages\\pandas\\util\\_decorators.py:331\u001b[0m, in \u001b[0;36mdeprecate_nonkeyword_arguments.<locals>.decorate.<locals>.wrapper\u001b[1;34m(*args, **kwargs)\u001b[0m\n\u001b[0;32m    325\u001b[0m \u001b[38;5;28;01mif\u001b[39;00m \u001b[38;5;28mlen\u001b[39m(args) \u001b[38;5;241m>\u001b[39m num_allow_args:\n\u001b[0;32m    326\u001b[0m     warnings\u001b[38;5;241m.\u001b[39mwarn(\n\u001b[0;32m    327\u001b[0m         msg\u001b[38;5;241m.\u001b[39mformat(arguments\u001b[38;5;241m=\u001b[39m_format_argument_list(allow_args)),\n\u001b[0;32m    328\u001b[0m         \u001b[38;5;167;01mFutureWarning\u001b[39;00m,\n\u001b[0;32m    329\u001b[0m         stacklevel\u001b[38;5;241m=\u001b[39mfind_stack_level(),\n\u001b[0;32m    330\u001b[0m     )\n\u001b[1;32m--> 331\u001b[0m \u001b[38;5;28;01mreturn\u001b[39;00m func(\u001b[38;5;241m*\u001b[39margs, \u001b[38;5;241m*\u001b[39m\u001b[38;5;241m*\u001b[39mkwargs)\n",
      "File \u001b[1;32mC:\\ProgramData\\anaconda3\\lib\\site-packages\\pandas\\core\\frame.py:5399\u001b[0m, in \u001b[0;36mDataFrame.drop\u001b[1;34m(self, labels, axis, index, columns, level, inplace, errors)\u001b[0m\n\u001b[0;32m   5251\u001b[0m \u001b[38;5;129m@deprecate_nonkeyword_arguments\u001b[39m(version\u001b[38;5;241m=\u001b[39m\u001b[38;5;28;01mNone\u001b[39;00m, allowed_args\u001b[38;5;241m=\u001b[39m[\u001b[38;5;124m\"\u001b[39m\u001b[38;5;124mself\u001b[39m\u001b[38;5;124m\"\u001b[39m, \u001b[38;5;124m\"\u001b[39m\u001b[38;5;124mlabels\u001b[39m\u001b[38;5;124m\"\u001b[39m])\n\u001b[0;32m   5252\u001b[0m \u001b[38;5;28;01mdef\u001b[39;00m \u001b[38;5;21mdrop\u001b[39m(  \u001b[38;5;66;03m# type: ignore[override]\u001b[39;00m\n\u001b[0;32m   5253\u001b[0m     \u001b[38;5;28mself\u001b[39m,\n\u001b[1;32m   (...)\u001b[0m\n\u001b[0;32m   5260\u001b[0m     errors: IgnoreRaise \u001b[38;5;241m=\u001b[39m \u001b[38;5;124m\"\u001b[39m\u001b[38;5;124mraise\u001b[39m\u001b[38;5;124m\"\u001b[39m,\n\u001b[0;32m   5261\u001b[0m ) \u001b[38;5;241m-\u001b[39m\u001b[38;5;241m>\u001b[39m DataFrame \u001b[38;5;241m|\u001b[39m \u001b[38;5;28;01mNone\u001b[39;00m:\n\u001b[0;32m   5262\u001b[0m     \u001b[38;5;124;03m\"\"\"\u001b[39;00m\n\u001b[0;32m   5263\u001b[0m \u001b[38;5;124;03m    Drop specified labels from rows or columns.\u001b[39;00m\n\u001b[0;32m   5264\u001b[0m \n\u001b[1;32m   (...)\u001b[0m\n\u001b[0;32m   5397\u001b[0m \u001b[38;5;124;03m            weight  1.0     0.8\u001b[39;00m\n\u001b[0;32m   5398\u001b[0m \u001b[38;5;124;03m    \"\"\"\u001b[39;00m\n\u001b[1;32m-> 5399\u001b[0m     \u001b[38;5;28;01mreturn\u001b[39;00m \u001b[38;5;28;43msuper\u001b[39;49m\u001b[43m(\u001b[49m\u001b[43m)\u001b[49m\u001b[38;5;241;43m.\u001b[39;49m\u001b[43mdrop\u001b[49m\u001b[43m(\u001b[49m\n\u001b[0;32m   5400\u001b[0m \u001b[43m        \u001b[49m\u001b[43mlabels\u001b[49m\u001b[38;5;241;43m=\u001b[39;49m\u001b[43mlabels\u001b[49m\u001b[43m,\u001b[49m\n\u001b[0;32m   5401\u001b[0m \u001b[43m        \u001b[49m\u001b[43maxis\u001b[49m\u001b[38;5;241;43m=\u001b[39;49m\u001b[43maxis\u001b[49m\u001b[43m,\u001b[49m\n\u001b[0;32m   5402\u001b[0m \u001b[43m        \u001b[49m\u001b[43mindex\u001b[49m\u001b[38;5;241;43m=\u001b[39;49m\u001b[43mindex\u001b[49m\u001b[43m,\u001b[49m\n\u001b[0;32m   5403\u001b[0m \u001b[43m        \u001b[49m\u001b[43mcolumns\u001b[49m\u001b[38;5;241;43m=\u001b[39;49m\u001b[43mcolumns\u001b[49m\u001b[43m,\u001b[49m\n\u001b[0;32m   5404\u001b[0m \u001b[43m        \u001b[49m\u001b[43mlevel\u001b[49m\u001b[38;5;241;43m=\u001b[39;49m\u001b[43mlevel\u001b[49m\u001b[43m,\u001b[49m\n\u001b[0;32m   5405\u001b[0m \u001b[43m        \u001b[49m\u001b[43minplace\u001b[49m\u001b[38;5;241;43m=\u001b[39;49m\u001b[43minplace\u001b[49m\u001b[43m,\u001b[49m\n\u001b[0;32m   5406\u001b[0m \u001b[43m        \u001b[49m\u001b[43merrors\u001b[49m\u001b[38;5;241;43m=\u001b[39;49m\u001b[43merrors\u001b[49m\u001b[43m,\u001b[49m\n\u001b[0;32m   5407\u001b[0m \u001b[43m    \u001b[49m\u001b[43m)\u001b[49m\n",
      "File \u001b[1;32mC:\\ProgramData\\anaconda3\\lib\\site-packages\\pandas\\util\\_decorators.py:331\u001b[0m, in \u001b[0;36mdeprecate_nonkeyword_arguments.<locals>.decorate.<locals>.wrapper\u001b[1;34m(*args, **kwargs)\u001b[0m\n\u001b[0;32m    325\u001b[0m \u001b[38;5;28;01mif\u001b[39;00m \u001b[38;5;28mlen\u001b[39m(args) \u001b[38;5;241m>\u001b[39m num_allow_args:\n\u001b[0;32m    326\u001b[0m     warnings\u001b[38;5;241m.\u001b[39mwarn(\n\u001b[0;32m    327\u001b[0m         msg\u001b[38;5;241m.\u001b[39mformat(arguments\u001b[38;5;241m=\u001b[39m_format_argument_list(allow_args)),\n\u001b[0;32m    328\u001b[0m         \u001b[38;5;167;01mFutureWarning\u001b[39;00m,\n\u001b[0;32m    329\u001b[0m         stacklevel\u001b[38;5;241m=\u001b[39mfind_stack_level(),\n\u001b[0;32m    330\u001b[0m     )\n\u001b[1;32m--> 331\u001b[0m \u001b[38;5;28;01mreturn\u001b[39;00m func(\u001b[38;5;241m*\u001b[39margs, \u001b[38;5;241m*\u001b[39m\u001b[38;5;241m*\u001b[39mkwargs)\n",
      "File \u001b[1;32mC:\\ProgramData\\anaconda3\\lib\\site-packages\\pandas\\core\\generic.py:4505\u001b[0m, in \u001b[0;36mNDFrame.drop\u001b[1;34m(self, labels, axis, index, columns, level, inplace, errors)\u001b[0m\n\u001b[0;32m   4503\u001b[0m \u001b[38;5;28;01mfor\u001b[39;00m axis, labels \u001b[38;5;129;01min\u001b[39;00m axes\u001b[38;5;241m.\u001b[39mitems():\n\u001b[0;32m   4504\u001b[0m     \u001b[38;5;28;01mif\u001b[39;00m labels \u001b[38;5;129;01mis\u001b[39;00m \u001b[38;5;129;01mnot\u001b[39;00m \u001b[38;5;28;01mNone\u001b[39;00m:\n\u001b[1;32m-> 4505\u001b[0m         obj \u001b[38;5;241m=\u001b[39m \u001b[43mobj\u001b[49m\u001b[38;5;241;43m.\u001b[39;49m\u001b[43m_drop_axis\u001b[49m\u001b[43m(\u001b[49m\u001b[43mlabels\u001b[49m\u001b[43m,\u001b[49m\u001b[43m \u001b[49m\u001b[43maxis\u001b[49m\u001b[43m,\u001b[49m\u001b[43m \u001b[49m\u001b[43mlevel\u001b[49m\u001b[38;5;241;43m=\u001b[39;49m\u001b[43mlevel\u001b[49m\u001b[43m,\u001b[49m\u001b[43m \u001b[49m\u001b[43merrors\u001b[49m\u001b[38;5;241;43m=\u001b[39;49m\u001b[43merrors\u001b[49m\u001b[43m)\u001b[49m\n\u001b[0;32m   4507\u001b[0m \u001b[38;5;28;01mif\u001b[39;00m inplace:\n\u001b[0;32m   4508\u001b[0m     \u001b[38;5;28mself\u001b[39m\u001b[38;5;241m.\u001b[39m_update_inplace(obj)\n",
      "File \u001b[1;32mC:\\ProgramData\\anaconda3\\lib\\site-packages\\pandas\\core\\generic.py:4546\u001b[0m, in \u001b[0;36mNDFrame._drop_axis\u001b[1;34m(self, labels, axis, level, errors, only_slice)\u001b[0m\n\u001b[0;32m   4544\u001b[0m         new_axis \u001b[38;5;241m=\u001b[39m axis\u001b[38;5;241m.\u001b[39mdrop(labels, level\u001b[38;5;241m=\u001b[39mlevel, errors\u001b[38;5;241m=\u001b[39merrors)\n\u001b[0;32m   4545\u001b[0m     \u001b[38;5;28;01melse\u001b[39;00m:\n\u001b[1;32m-> 4546\u001b[0m         new_axis \u001b[38;5;241m=\u001b[39m \u001b[43maxis\u001b[49m\u001b[38;5;241;43m.\u001b[39;49m\u001b[43mdrop\u001b[49m\u001b[43m(\u001b[49m\u001b[43mlabels\u001b[49m\u001b[43m,\u001b[49m\u001b[43m \u001b[49m\u001b[43merrors\u001b[49m\u001b[38;5;241;43m=\u001b[39;49m\u001b[43merrors\u001b[49m\u001b[43m)\u001b[49m\n\u001b[0;32m   4547\u001b[0m     indexer \u001b[38;5;241m=\u001b[39m axis\u001b[38;5;241m.\u001b[39mget_indexer(new_axis)\n\u001b[0;32m   4549\u001b[0m \u001b[38;5;66;03m# Case for non-unique axis\u001b[39;00m\n\u001b[0;32m   4550\u001b[0m \u001b[38;5;28;01melse\u001b[39;00m:\n",
      "File \u001b[1;32mC:\\ProgramData\\anaconda3\\lib\\site-packages\\pandas\\core\\indexes\\base.py:6934\u001b[0m, in \u001b[0;36mIndex.drop\u001b[1;34m(self, labels, errors)\u001b[0m\n\u001b[0;32m   6932\u001b[0m \u001b[38;5;28;01mif\u001b[39;00m mask\u001b[38;5;241m.\u001b[39many():\n\u001b[0;32m   6933\u001b[0m     \u001b[38;5;28;01mif\u001b[39;00m errors \u001b[38;5;241m!=\u001b[39m \u001b[38;5;124m\"\u001b[39m\u001b[38;5;124mignore\u001b[39m\u001b[38;5;124m\"\u001b[39m:\n\u001b[1;32m-> 6934\u001b[0m         \u001b[38;5;28;01mraise\u001b[39;00m \u001b[38;5;167;01mKeyError\u001b[39;00m(\u001b[38;5;124mf\u001b[39m\u001b[38;5;124m\"\u001b[39m\u001b[38;5;132;01m{\u001b[39;00m\u001b[38;5;28mlist\u001b[39m(labels[mask])\u001b[38;5;132;01m}\u001b[39;00m\u001b[38;5;124m not found in axis\u001b[39m\u001b[38;5;124m\"\u001b[39m)\n\u001b[0;32m   6935\u001b[0m     indexer \u001b[38;5;241m=\u001b[39m indexer[\u001b[38;5;241m~\u001b[39mmask]\n\u001b[0;32m   6936\u001b[0m \u001b[38;5;28;01mreturn\u001b[39;00m \u001b[38;5;28mself\u001b[39m\u001b[38;5;241m.\u001b[39mdelete(indexer)\n",
      "\u001b[1;31mKeyError\u001b[0m: \"['Timestamp', 'Account.1', 'Account'] not found in axis\""
     ]
    }
   ],
   "source": [
    "df.drop(['Timestamp','Account.1','Account'], axis=1, inplace=True)"
   ]
  },
  {
   "cell_type": "code",
   "execution_count": 14,
   "id": "1c5abfaa",
   "metadata": {},
   "outputs": [
    {
     "data": {
      "text/html": [
       "<div>\n",
       "<style scoped>\n",
       "    .dataframe tbody tr th:only-of-type {\n",
       "        vertical-align: middle;\n",
       "    }\n",
       "\n",
       "    .dataframe tbody tr th {\n",
       "        vertical-align: top;\n",
       "    }\n",
       "\n",
       "    .dataframe thead th {\n",
       "        text-align: right;\n",
       "    }\n",
       "</style>\n",
       "<table border=\"1\" class=\"dataframe\">\n",
       "  <thead>\n",
       "    <tr style=\"text-align: right;\">\n",
       "      <th></th>\n",
       "      <th>From Bank</th>\n",
       "      <th>To Bank</th>\n",
       "      <th>Amount Received</th>\n",
       "      <th>Receiving Currency</th>\n",
       "      <th>Amount Paid</th>\n",
       "      <th>Payment Currency</th>\n",
       "      <th>Payment Format</th>\n",
       "      <th>Is Laundering</th>\n",
       "    </tr>\n",
       "  </thead>\n",
       "  <tbody>\n",
       "    <tr>\n",
       "      <th>4742</th>\n",
       "      <td>70</td>\n",
       "      <td>1124</td>\n",
       "      <td>389769.39</td>\n",
       "      <td>US Dollar</td>\n",
       "      <td>389769.39</td>\n",
       "      <td>US Dollar</td>\n",
       "      <td>Cheque</td>\n",
       "      <td>1</td>\n",
       "    </tr>\n",
       "    <tr>\n",
       "      <th>40621</th>\n",
       "      <td>70</td>\n",
       "      <td>11474</td>\n",
       "      <td>29024.33</td>\n",
       "      <td>US Dollar</td>\n",
       "      <td>29024.33</td>\n",
       "      <td>US Dollar</td>\n",
       "      <td>Credit Card</td>\n",
       "      <td>1</td>\n",
       "    </tr>\n",
       "    <tr>\n",
       "      <th>69152</th>\n",
       "      <td>70</td>\n",
       "      <td>15980</td>\n",
       "      <td>792.92</td>\n",
       "      <td>US Dollar</td>\n",
       "      <td>792.92</td>\n",
       "      <td>US Dollar</td>\n",
       "      <td>Credit Card</td>\n",
       "      <td>1</td>\n",
       "    </tr>\n",
       "    <tr>\n",
       "      <th>85763</th>\n",
       "      <td>70</td>\n",
       "      <td>113798</td>\n",
       "      <td>13171425.53</td>\n",
       "      <td>US Dollar</td>\n",
       "      <td>13171425.53</td>\n",
       "      <td>US Dollar</td>\n",
       "      <td>Cheque</td>\n",
       "      <td>1</td>\n",
       "    </tr>\n",
       "    <tr>\n",
       "      <th>90684</th>\n",
       "      <td>70</td>\n",
       "      <td>32375</td>\n",
       "      <td>14288.83</td>\n",
       "      <td>US Dollar</td>\n",
       "      <td>14288.83</td>\n",
       "      <td>US Dollar</td>\n",
       "      <td>Cash</td>\n",
       "      <td>1</td>\n",
       "    </tr>\n",
       "  </tbody>\n",
       "</table>\n",
       "</div>"
      ],
      "text/plain": [
       "       From Bank  To Bank  Amount Received Receiving Currency  Amount Paid  \\\n",
       "4742          70     1124        389769.39          US Dollar    389769.39   \n",
       "40621         70    11474         29024.33          US Dollar     29024.33   \n",
       "69152         70    15980           792.92          US Dollar       792.92   \n",
       "85763         70   113798      13171425.53          US Dollar  13171425.53   \n",
       "90684         70    32375         14288.83          US Dollar     14288.83   \n",
       "\n",
       "      Payment Currency Payment Format  Is Laundering  \n",
       "4742         US Dollar         Cheque              1  \n",
       "40621        US Dollar    Credit Card              1  \n",
       "69152        US Dollar    Credit Card              1  \n",
       "85763        US Dollar         Cheque              1  \n",
       "90684        US Dollar           Cash              1  "
      ]
     },
     "execution_count": 14,
     "metadata": {},
     "output_type": "execute_result"
    }
   ],
   "source": [
    "df.head()"
   ]
  },
  {
   "cell_type": "markdown",
   "id": "bf3d5eed",
   "metadata": {},
   "source": [
    "## 3 graphs showing:\n",
    "\n",
    "1. Proportion of Transactions flagged as money laundering in Receiving Currencies\n",
    "\n",
    "2. Proportion of Transactions flagged as money laundering in Payment Currencies\n",
    "\n",
    "3. Proportion of types of payment flagged as money laundering"
   ]
  },
  {
   "cell_type": "code",
   "execution_count": 10,
   "id": "7482c46e",
   "metadata": {},
   "outputs": [
    {
     "data": {
      "image/png": "[encoded data removed]",
      "text/plain": [
       "<Figure size 1800x1200 with 3 Axes>"
      ]
     },
     "metadata": {},
     "output_type": "display_data"
    }
   ],
   "source": [
    "\n",
    "# Calculate the percentage of 'Is Laundering' within each category of 'Receiving Currency'\n",
    "receiving_currency_grouped = df.groupby('Receiving Currency')['Is Laundering'].value_counts(normalize=True).mul(100).reset_index(name='Percentage')\n",
    "receiving_currency_laundering = receiving_currency_grouped[receiving_currency_grouped['Is Laundering'] == 1]\n",
    "\n",
    "# Calculate the percentage of 'Is Laundering' within each category of 'Payment Currency'\n",
    "payment_currency_grouped = df.groupby('Payment Currency')['Is Laundering'].value_counts(normalize=True).mul(100).reset_index(name='Percentage')\n",
    "payment_currency_laundering = payment_currency_grouped[payment_currency_grouped['Is Laundering'] == 1]\n",
    "\n",
    "# Calculate the percentage of 'Is Laundering' within each category of 'Payment Format'\n",
    "payment_format_grouped = df.groupby('Payment Format')['Is Laundering'].value_counts(normalize=True).mul(100).reset_index(name='Percentage')\n",
    "payment_format_laundering = payment_format_grouped[payment_format_grouped['Is Laundering'] == 1]\n",
    "\n",
    "# Set plot size for all plots\n",
    "# Set plot size for all plots\n",
    "plt.rcParams['figure.figsize'] = (18, 12)\n",
    "\n",
    "# Set color to white for text and labels\n",
    "plt.rcParams['text.color'] = 'white'\n",
    "plt.rcParams['axes.labelcolor'] = 'white'\n",
    "plt.rcParams['xtick.color'] = 'white'\n",
    "plt.rcParams['ytick.color'] = 'white'\n",
    "\n",
    "# Plot the percentage of 'Is Laundering' within each category of 'Receiving Currency'\n",
    "plt.subplot(3, 1, 1)\n",
    "sns.barplot(x='Receiving Currency', y='Percentage', data=receiving_currency_laundering, palette='PuBu')\n",
    "plt.title('Proportion of Transactions flagged as money laundering in Receiving Currencies')\n",
    "plt.xlabel('Receiving Currency')\n",
    "plt.ylabel('Percentage of Is Laundering')\n",
    "\n",
    "# Plot the percentage of 'Is Laundering' within each category of 'Payment Currency'\n",
    "plt.subplot(3, 1, 2)\n",
    "sns.barplot(x='Payment Currency', y='Percentage', data=payment_currency_laundering, palette='PuBu')\n",
    "plt.title('Proportion of types of payment flagged as money laundering')\n",
    "plt.xlabel('Payment Currency')\n",
    "plt.ylabel('Percentage of Is Laundering')\n",
    "\n",
    "# Plot the percentage of 'Is Laundering' within each category of 'Payment Format'\n",
    "plt.subplot(3, 1, 3)\n",
    "sns.barplot(x='Payment Format', y='Percentage', data=payment_format_laundering, palette='PuBu')\n",
    "plt.title('Percentage of Is Laundering within Each Payment Format')\n",
    "plt.xlabel('Payment Format')\n",
    "plt.ylabel('Percentage of Is Laundering')\n",
    "\n",
    "\n",
    "# Adjust layout\n",
    "plt.tight_layout()\n",
    "plt.savefig('is_laundering_proportional_distribution.png', transparent=True, bbox_inches='tight')\n",
    "\n",
    "plt.show()\n"
   ]
  },
  {
   "cell_type": "markdown",
   "id": "d6e5f29f",
   "metadata": {},
   "source": [
    "## building the model"
   ]
  },
  {
   "cell_type": "code",
   "execution_count": 16,
   "id": "3b071b76",
   "metadata": {},
   "outputs": [
    {
     "name": "stdout",
     "output_type": "stream",
     "text": [
      "              precision    recall  f1-score   support\n",
      "\n",
      "           0       0.90      0.86      0.88      1521\n",
      "           1       0.87      0.91      0.89      1586\n",
      "\n",
      "    accuracy                           0.88      3107\n",
      "   macro avg       0.89      0.88      0.88      3107\n",
      "weighted avg       0.88      0.88      0.88      3107\n",
      "\n"
     ]
    }
   ],
   "source": [
    "from sklearn.model_selection import train_test_split\n",
    "from sklearn.preprocessing import StandardScaler, OneHotEncoder\n",
    "from sklearn.compose import ColumnTransformer\n",
    "from sklearn.pipeline import Pipeline\n",
    "from sklearn.impute import SimpleImputer\n",
    "from sklearn.ensemble import RandomForestClassifier\n",
    "from sklearn.metrics import classification_report\n",
    "from sklearn.svm import SVC\n",
    "\n",
    "\n",
    "# Separate features and target variable from data\n",
    "X = df.drop('Is Laundering', axis=1)\n",
    "y = df['Is Laundering']\n",
    "\n",
    "# Split data into training and testing sets\n",
    "X_train, X_test, y_train, y_test = train_test_split(X, y, test_size=0.3, random_state=42)\n",
    "\n",
    "# Define preprocessing for numeric and categorical data\n",
    "numeric_features = ['Amount Received', 'Amount Paid']\n",
    "numeric_transformer = Pipeline(steps=[\n",
    "    ('imputer', SimpleImputer(strategy='mean')),\n",
    "    ('scaler', StandardScaler())])\n",
    "\n",
    "categorical_features = ['From Bank', 'To Bank', 'Receiving Currency', 'Payment Currency', 'Payment Format']\n",
    "categorical_transformer = Pipeline(steps=[\n",
    "    ('imputer', SimpleImputer(strategy='constant', fill_value='missing')),\n",
    "    ('onehot', OneHotEncoder(handle_unknown='ignore'))])\n",
    "\n",
    "# Combine preprocessing steps\n",
    "preprocessor = ColumnTransformer(\n",
    "    transformers=[\n",
    "        ('num', numeric_transformer, numeric_features),\n",
    "        ('cat', categorical_transformer, categorical_features)])\n",
    "\n",
    "# Create and evaluate the pipeline\n",
    "pipeline = Pipeline(steps=[('preprocessor', preprocessor),\n",
    "                           ('classifier', RandomForestClassifier())])\n",
    "\n",
    "# Preprocessing of training data, fit model \n",
    "pipeline.fit(X_train, y_train)\n",
    "\n",
    "# Preprocessing of validation data, get predictions\n",
    "preds = pipeline.predict(X_test)\n",
    "\n",
    "# Evaluate the model\n",
    "score = classification_report(y_test, preds)\n",
    "print(score)\n"
   ]
  },
  {
   "cell_type": "markdown",
   "id": "26b49cea",
   "metadata": {},
   "source": [
    "### F1-Score\n",
    "\n",
    "The weighted average of Precision and Recall. It takes both false positives and false negatives into account. It is a good way to show that a classifer has a good value for both recall and precision.\n",
    "\n",
    "This is a good score because:\n",
    "\n",
    "Getting too many false negatives can result in:\n",
    "- Compliance breaches, which in turn can lead to a substantially big fine for the banks involved and, depending on the gravity of the breach (how many shady transactions passed or how big they were) can even put the institution's licenses and operating at risk... Avoiding false negatives should definitely be the main concern for every bank and fin-tech if they want to avoid scandals, taking a big financial hits, and have problems with the law, which, ultimately can lead them to close or having to sell the company to another one.\n",
    "\n",
    "\n",
    "Getting too many false positives can result in:\n",
    "- Too many false positives may not lead to the worst possible scenario described above, but is not free of consequences either. Having too many false positives will increase the load in customer support, that willo perform long EDD calls with clients, receive angry clean clients' calls, complaining that had their assets are frozen or because were \"expelled\" as a client (Fin-techs and mostly new startups have a lower treshhold in their risk appetite and generally prefer to let go of risky clients than to keep them, as the revenue they bring might be way lower than the possible financial cost they might pose. Aside from that, the company might have to deal with minor lawsuits from these clients that were not happy with whatever resolution the company gave to how unfairly they were treated.\n",
    "\n",
    "\n",
    "Because of that, I decided to balance between Precision and Recall and I chose F1-score as the metrics to evaluate my model.\n",
    "\n",
    "`Support`: The number of actual occurrences of the class in the specified dataset.\n",
    "\n",
    "`Accuracy`: The ratio of correctly predicted observation to the total observations. \n",
    "\n",
    "`Macro Avg`: The average precision, recall, or F1-score between classes. This doesn't take class imbalance into account.\n",
    "\n",
    "`Weighted Avg`: Similar to the macro average, but this takes the class imbalance into account."
   ]
  },
  {
   "cell_type": "code",
   "execution_count": 17,
   "id": "c2677b9e",
   "metadata": {},
   "outputs": [],
   "source": [
    "from sklearn.preprocessing import OneHotEncoder\n",
    "\n",
    "# Assume 'X' is your input feature matrix\n",
    "encoder = OneHotEncoder()\n",
    "X_encoded = encoder.fit_transform(X)\n",
    "\n",
    "# Get feature names\n",
    "feature_names = encoder.get_feature_names_out()"
   ]
  },
  {
   "cell_type": "code",
   "execution_count": 18,
   "id": "0f55c2ab",
   "metadata": {},
   "outputs": [
    {
     "name": "stdout",
     "output_type": "stream",
     "text": [
      "['From Bank_1' 'From Bank_3' 'From Bank_4' ... 'To Bank_343239'\n",
      " 'To Bank_345219' 'To Bank_354221']\n"
     ]
    }
   ],
   "source": [
    "encoder = OneHotEncoder()\n",
    "X_encoded = encoder.fit_transform(df[['From Bank', 'To Bank']])\n",
    "\n",
    "# Get feature names\n",
    "feature_names = encoder.get_feature_names_out(['From Bank', 'To Bank'])\n",
    "print(feature_names)\n"
   ]
  },
  {
   "cell_type": "code",
   "execution_count": 19,
   "id": "327eeaf5",
   "metadata": {},
   "outputs": [],
   "source": [
    "from sklearn.linear_model import LogisticRegression\n",
    "from sklearn.tree import DecisionTreeClassifier\n",
    "from sklearn.ensemble import RandomForestClassifier\n",
    "from sklearn.svm import SVC\n",
    "from sklearn.neighbors import KNeighborsClassifier\n",
    "from sklearn.naive_bayes import GaussianNB\n",
    "from sklearn.pipeline import make_pipeline\n",
    "from sklearn.model_selection import GridSearchCV\n",
    "from sklearn.preprocessing import StandardScaler\n"
   ]
  },
  {
   "cell_type": "code",
   "execution_count": null,
   "id": "8ac833cd",
   "metadata": {},
   "outputs": [],
   "source": [
    "df.columns"
   ]
  },
  {
   "cell_type": "code",
   "execution_count": 11,
   "id": "25e118f6",
   "metadata": {},
   "outputs": [
    {
     "ename": "NameError",
     "evalue": "name 'DecisionTreeClassifier' is not defined",
     "output_type": "error",
     "traceback": [
      "\u001b[1;31m---------------------------------------------------------------------------\u001b[0m",
      "\u001b[1;31mNameError\u001b[0m                                 Traceback (most recent call last)",
      "Cell \u001b[1;32mIn[11], line 19\u001b[0m\n\u001b[0;32m     10\u001b[0m preprocessor \u001b[38;5;241m=\u001b[39m ColumnTransformer(\n\u001b[0;32m     11\u001b[0m     transformers\u001b[38;5;241m=\u001b[39m[\n\u001b[0;32m     12\u001b[0m         (\u001b[38;5;124m'\u001b[39m\u001b[38;5;124mnum\u001b[39m\u001b[38;5;124m'\u001b[39m, StandardScaler(), [\u001b[38;5;124m'\u001b[39m\u001b[38;5;124mAmount Received\u001b[39m\u001b[38;5;124m'\u001b[39m, \u001b[38;5;124m'\u001b[39m\u001b[38;5;124mAmount Paid\u001b[39m\u001b[38;5;124m'\u001b[39m]),\n\u001b[0;32m     13\u001b[0m         (\u001b[38;5;124m'\u001b[39m\u001b[38;5;124mcat\u001b[39m\u001b[38;5;124m'\u001b[39m, OneHotEncoder(handle_unknown\u001b[38;5;241m=\u001b[39m\u001b[38;5;124m'\u001b[39m\u001b[38;5;124mignore\u001b[39m\u001b[38;5;124m'\u001b[39m), [\u001b[38;5;124m'\u001b[39m\u001b[38;5;124mFrom Bank\u001b[39m\u001b[38;5;124m'\u001b[39m, \u001b[38;5;124m'\u001b[39m\u001b[38;5;124mTo Bank\u001b[39m\u001b[38;5;124m'\u001b[39m, \u001b[38;5;124m'\u001b[39m\u001b[38;5;124mReceiving Currency\u001b[39m\u001b[38;5;124m'\u001b[39m, \u001b[38;5;124m'\u001b[39m\u001b[38;5;124mPayment Currency\u001b[39m\u001b[38;5;124m'\u001b[39m, \u001b[38;5;124m'\u001b[39m\u001b[38;5;124mPayment Format\u001b[39m\u001b[38;5;124m'\u001b[39m])\n\u001b[0;32m     14\u001b[0m     ])\n\u001b[0;32m     16\u001b[0m \u001b[38;5;66;03m# Define classifiers\u001b[39;00m\n\u001b[0;32m     17\u001b[0m classifiers \u001b[38;5;241m=\u001b[39m [\n\u001b[0;32m     18\u001b[0m     LogisticRegression(max_iter\u001b[38;5;241m=\u001b[39m\u001b[38;5;241m1000\u001b[39m),\n\u001b[1;32m---> 19\u001b[0m     \u001b[43mDecisionTreeClassifier\u001b[49m(),\n\u001b[0;32m     20\u001b[0m     RandomForestClassifier(),\n\u001b[0;32m     21\u001b[0m     SVC(),\n\u001b[0;32m     22\u001b[0m     KNeighborsClassifier(),\n\u001b[0;32m     23\u001b[0m     GaussianNB()\n\u001b[0;32m     24\u001b[0m ]\n\u001b[0;32m     25\u001b[0m \u001b[38;5;66;03m# Iterate over classifiers\u001b[39;00m\n\u001b[0;32m     26\u001b[0m \u001b[38;5;28;01mfor\u001b[39;00m classifier \u001b[38;5;129;01min\u001b[39;00m classifiers:\n\u001b[0;32m     27\u001b[0m     \u001b[38;5;66;03m# Create and evaluate the pipeline\u001b[39;00m\n",
      "\u001b[1;31mNameError\u001b[0m: name 'DecisionTreeClassifier' is not defined"
     ]
    }
   ],
   "source": [
    "from sklearn.preprocessing import StandardScaler, OneHotEncoder\n",
    "from sklearn.compose import ColumnTransformer\n",
    "from sklearn.pipeline import Pipeline\n",
    "from sklearn.ensemble import RandomForestClassifier\n",
    "from sklearn.linear_model import LogisticRegression\n",
    "from sklearn.model_selection import GridSearchCV\n",
    "\n",
    "\n",
    "# Define preprocessor\n",
    "preprocessor = ColumnTransformer(\n",
    "    transformers=[\n",
    "        ('num', StandardScaler(), ['Amount Received', 'Amount Paid']),\n",
    "        ('cat', OneHotEncoder(handle_unknown='ignore'), ['From Bank', 'To Bank', 'Receiving Currency', 'Payment Currency', 'Payment Format'])\n",
    "    ])\n",
    "\n",
    "# Define classifiers\n",
    "classifiers = [\n",
    "    LogisticRegression(max_iter=1000),\n",
    "    DecisionTreeClassifier(),\n",
    "    RandomForestClassifier(),\n",
    "    SVC(),\n",
    "    KNeighborsClassifier(),\n",
    "    GaussianNB()\n",
    "]\n",
    "# Iterate over classifiers\n",
    "for classifier in classifiers:\n",
    "    # Create and evaluate the pipeline\n",
    "    pipe = Pipeline(steps=[('preprocessor', preprocessor),\n",
    "                           ('classifier', classifier)])\n",
    "    \n",
    "    # Maybe use GridSearchCV or RandomizedSearchCV to tune hyperparameters\n",
    "    grid = GridSearchCV(pipe, param_grid={}, cv=5, scoring='f1_macro')  # Adjust param_grid as needed\n",
    "    grid.fit(X_train[:10], y_train[:10])\n",
    "    print(f'Model: {classifier}')\n",
    "    print(f'Train accuracy: {grid.best_score_}')\n",
    "    print(f'Test accuracy: {grid.score(X_test, y_test)}')\n",
    "    print()\n"
   ]
  },
  {
   "cell_type": "markdown",
   "id": "4195efb7",
   "metadata": {},
   "source": [
    "## hyperparameter tuning\n",
    "\n",
    "1. Support Vector Classifier (SVC)\n",
    "For SVC, important hyperparameters include:\n",
    "\n",
    "C: Regularization parameter. The strength of the regularization is inversely proportional to C. Must be strictly positive.\n",
    "kernel: Specifies the kernel type to be used in the algorithm (‘linear’, ‘poly’, ‘rbf’, ‘sigmoid’, ‘precomputed’).\n",
    "degree: Degree of the polynomial kernel function (‘poly’). Ignored by all other kernels.\n",
    "gamma: Kernel coefficient for ‘rbf’, ‘poly’, and ‘sigmoid’.\n",
    "\n",
    "2. Random Forest Classifier\n",
    "For RandomForestClassifier, important hyperparameters include:\n",
    "\n",
    "n_estimators: The number of trees in the forest.\n",
    "max_depth: The maximum depth of the tree.\n",
    "min_samples_split: The minimum number of samples required to split an internal node.\n",
    "min_samples_leaf: The minimum number of samples required to be at a leaf node.\n"
   ]
  },
  {
   "cell_type": "code",
   "execution_count": null,
   "id": "6ddf8588",
   "metadata": {},
   "outputs": [],
   "source": [
    "from sklearn.model_selection import GridSearchCV\n",
    "\n",
    "# Define the parameter grid\n",
    "param_grid = {\n",
    "    'classifier__C': [0.1, 1, 10],\n",
    "    'classifier__kernel': ['linear', 'rbf', 'poly', 'sigmoid'],\n",
    "    'classifier__gamma': ['scale', 'auto']\n",
    "} \n",
    "\n",
    "# Create and evaluate the pipeline\n",
    "svc_pipe = Pipeline(steps=[('preprocessor', preprocessor),\n",
    "                           ('classifier', SVC())])\n",
    "\n",
    "grid_search_svc = GridSearchCV(svc_pipe, param_grid, cv=5, )\n",
    "grid_search_svc.fit(X_train, y_train)"
   ]
  },
  {
   "cell_type": "code",
   "execution_count": null,
   "id": "b3dc3e7b",
   "metadata": {},
   "outputs": [],
   "source": []
  }
 ],
 "metadata": {
  "kernelspec": {
   "display_name": "Python 3 (ipykernel)",
   "language": "python",
   "name": "python3"
  },
  "language_info": {
   "codemirror_mode": {
    "name": "ipython",
    "version": 3
   },
   "file_extension": ".py",
   "mimetype": "text/x-python",
   "name": "python",
   "nbconvert_exporter": "python",
   "pygments_lexer": "ipython3",
   "version": "3.10.9"
  }
 },
 "nbformat": 4,
 "nbformat_minor": 5
}
